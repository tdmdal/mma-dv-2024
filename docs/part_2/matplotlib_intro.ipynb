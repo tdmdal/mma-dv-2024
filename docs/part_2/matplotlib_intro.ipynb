{
  "nbformat": 4,
  "nbformat_minor": 0,
  "metadata": {
    "colab": {
      "provenance": []
    },
    "kernelspec": {
      "name": "python3",
      "display_name": "Python 3"
    },
    "language_info": {
      "name": "python"
    }
  },
  "cells": [
    {
      "cell_type": "markdown",
      "source": [
        "# 1 Introduction"
      ],
      "metadata": {
        "id": "AtxcpNh26Fp5"
      }
    },
    {
      "cell_type": "markdown",
      "source": [
        "This notebook introduces you a few Matplotlib basic concepts:\n",
        "\n",
        "1. its design architecture,\n",
        "2. object hierarchy, and\n",
        "3. two plotting approaches.\n",
        "\n",
        "Knowing these basics builds a foundation for you to learn Matplotlib quickly. Navigating and understanding Matplotlib's large online document would be much easier if you have the basic concepts under your belt."
      ],
      "metadata": {
        "id": "RJbDSSC50q1R"
      }
    },
    {
      "cell_type": "code",
      "source": [
        "import matplotlib.pyplot as plt\n",
        "\n",
        "# \"%matplotlib inline\" is not needed as inline is the default for notebook environment\n",
        "# https://github.com/googlecolab/colabtools/issues/616#issuecomment-506829877\n",
        "\n",
        "import pandas as pd\n",
        "\n",
        "# for pretty print\n",
        "from rich import inspect\n",
        "from rich.pretty import pprint"
      ],
      "metadata": {
        "id": "yzZhWK4L8Cro"
      },
      "execution_count": null,
      "outputs": []
    },
    {
      "cell_type": "markdown",
      "source": [
        "# 2 Basic Concepts"
      ],
      "metadata": {
        "id": "HY0k7K5F6J6k"
      }
    },
    {
      "cell_type": "markdown",
      "source": [
        "## 2.1 Architecture\n",
        "\n",
        "Matplotlib's software architecture has three main layers. From bottom to top, they are backend layer, artist layer, and script layer. We briefly discuss each layer's function.\n",
        "\n",
        "1. Backend layer (`matplotlib.backend_bases`). Backends handle the hard work behind the scenes to display Matplotlib figures on the screen under different settings/environments. For example, when you plot a figure in a Python shell, a plot window pops up to display the figure. On the other hand, if you use Jupyter notebook (Google Colab included) and draw an inline plot, the plot displays directly in the notebook. The backend layer defines all the primitives that each setting/environment must implement to serve as a backend.\n",
        "\n",
        "    There are three main components in the backend layer, `FigureCanvasBase`, `RendererBase`, and `event`.\n",
        "\n",
        "    1.1 `FigureCanvasBase` deals with the area onto which the figure is drawn, i.e., the canvas.\n",
        "\n",
        "    1.2 `RendererBase` knows how to draw on the `FigureCanvas`, just like a paintbrush.\n",
        "\n",
        "    1.3 `Event` handles user inputs such as a mouse click.\n",
        "\n",
        "2. Artist layer (`matplotlib.artist.Artist`). An artist knows how to use a paintbrush (`RendererBase`) to draw on a canvas (`FigureCanvasBase`). All visible elements in a figure are artist objects. Typcially, when composing a plot, we work with artists most of the time. There are two types of artists.\n",
        "\n",
        "    2.1 Primitives. They are graphical objects we want to paint onto the canvas: `Line2D`, `Rectangle`, `Text`, etc.\n",
        "\n",
        "    2.2 Containers. They are places to hold the primitives, for example, `Figure`, `Axes`, `Axis`, etc. A container can contain one or more other containers, for example, a `Figure` can contain one or more `Axes` (subplots). `Axes` are Matplotlib's term for subplots (not the plural of Axis). A subplot is a region for plotting. A 2D subplot, for example, contains two `Axis` objects.\n",
        "\n",
        "3. Script layer (`matplotlib.pyplot`). A light wrapper/interface to the artist layer. It makes plotting simple graphics easy for average users.\n",
        "\n",
        "As you will see below, whether you work at the artist layer or the script layer represents two different approaches of plotting, but first let us take a look at how a plot organizes its artists objects (primitives and containers)."
      ],
      "metadata": {
        "id": "CiRniMiC9nkj"
      }
    },
    {
      "cell_type": "markdown",
      "source": [
        "## 2.2 Object Hierarchy\n",
        "\n",
        "Matplotlib organizes visual elements (artist objects) of a plot in a hierarchical structure. Sitting at the top of this structure is the `Figure`. A `Figure` can contain multiple `Axes` (subplots) and many other figure-related properties. Inside a `Axes`, there are legends, lines, texts, and many more smaller objects. This hierarchy can be many levels deep.\n",
        "\n",
        "Below, we write a line of code to create a figure with a single blank subplot (`fig0, ax0 = plt.subplots()`), and drill down the hierarchical structure by following a particular path, from `Figure` at the top to a tick label at the bottom.\n",
        "\n",
        "```\n",
        "Figure\n",
        " +-- Axes[0]\n",
        " |    +-- xaxis\n",
        " |    |    +-- MajorTicks[0]\n",
        " |    |    |    +-- label1\n",
        " |    |    |    +-- ...\n",
        " |    |    +-- ...\n",
        " |    +-- ...\n",
        " +--...\n",
        " ```"
      ],
      "metadata": {
        "id": "3y5rMyID7zk4"
      }
    },
    {
      "cell_type": "code",
      "source": [
        "# create a figure that contains one subplot/axes\n",
        "fig0, ax0 = plt.subplots()\n",
        "\n",
        "# set color for the figure and axes so you know where they are\n",
        "fig0.set_facecolor('lightskyblue')\n",
        "ax0.set_facecolor(\"lightyellow\")"
      ],
      "metadata": {
        "id": "ANPLcL-VC1XL"
      },
      "execution_count": null,
      "outputs": []
    },
    {
      "cell_type": "code",
      "source": [
        "# inspect the figure object\n",
        "# notice that the figure contains an axes attribute, which is a list of axes\n",
        "inspect(fig0)"
      ],
      "metadata": {
        "id": "DZVk719pCJOJ"
      },
      "execution_count": null,
      "outputs": []
    },
    {
      "cell_type": "code",
      "source": [
        "# double check the axes attribute is a list\n",
        "pprint(type(fig0.axes))\n",
        "\n",
        "# the first element of the axes list holds an axes\n",
        "pprint(type(fig0.axes[0]))\n",
        "\n",
        "# note that the elemement axes is the same as the one returned by the plt.subplots()\n",
        "pprint(ax0 is fig0.axes[0])\n",
        "\n",
        "# inspect the first axes (it's the only axes in this example)\n",
        "inspect(fig0.axes[0])"
      ],
      "metadata": {
        "id": "OKiSs107-vL-"
      },
      "execution_count": null,
      "outputs": []
    },
    {
      "cell_type": "code",
      "source": [
        "# we can drill down in this fashion: xaxis -> majorTick -> the first tick of the majorTick -> the label of the first tick\n",
        "pprint(type(fig0.axes[0].xaxis))\n",
        "pprint(type(fig0.axes[0].xaxis.majorTicks))\n",
        "pprint(type(fig0.axes[0].xaxis.majorTicks[0]))\n",
        "pprint(type(fig0.axes[0].xaxis.majorTicks[0].label1))"
      ],
      "metadata": {
        "id": "ETLJM8Gl78fg"
      },
      "execution_count": null,
      "outputs": []
    },
    {
      "cell_type": "code",
      "source": [
        "# inspect the xaxis\n",
        "inspect(fig0.axes[0].xaxis)"
      ],
      "metadata": {
        "id": "xxfDY0RwGpI3"
      },
      "execution_count": null,
      "outputs": []
    },
    {
      "cell_type": "code",
      "source": [
        "# inspect the first tick of the majorTick of xaxis\n",
        "inspect(fig0.axes[0].xaxis.majorTicks[0])\n",
        "\n",
        "# inspect the label of the first tick\n",
        "inspect(fig0.axes[0].xaxis.majorTicks[0].label1)"
      ],
      "metadata": {
        "id": "zmx0ddLY6IW5"
      },
      "execution_count": null,
      "outputs": []
    },
    {
      "cell_type": "markdown",
      "source": [
        "## 2.3 Two Approaches of plotting\n",
        "\n",
        "There are two ways to use matplotlib.\n",
        "\n",
        "1. Work at the script layer. Call `plt.plot()` and other top-level `matplotlib.pyplot` functions to do the plotting (e.g., `plt.bar()`, `plt.title()`, `plt.ylabel()`, etc.) . With this approach you implicitly manage Figures, Axes and other elements in a plot, i.e., you do not specify which Figure and Axes you want to work on, you always work on the *current* Figure and Axes. This approach is sometimes called implicit interface approach.\n",
        "\n",
        "2. Work at the artist layer. With this approach, you explicitly create Figures and Axes objects and call methods on them. This approach is sometimes called Object Oriented (OO) approach or explicit interface approach.\n",
        "\n",
        "The first approach is convenient for beginners to get started, however, we recommend using the second approach (so does the official Matplotlib document; see [here](https://matplotlib.org/stable/users/explain/quick_start.html#coding-styles)), particularly for complicated plots, as you can better customize and fine-tune your plots at the artist level. In addition, being explicit on which Figure and Axes you are plotting on is in general a better coding style.\n",
        "\n",
        "In fact, most of the functions in the first approach is just a thin wrapper of the second approach. For example, the bar plot function `plt.bar()` would simply first get the current Axes instance (`gca()`, get current axes) and then call the `bar()` method of the axes instance. (This is evident if you check the [source code](https://github.com/matplotlib/matplotlib/blob/v3.8.2/lib/matplotlib/pyplot.py#L2728-L2747) of `plt.bar()`)\n",
        "\n",
        "We demonstrate the two approach below."
      ],
      "metadata": {
        "id": "2L6a8G6w8m0W"
      }
    },
    {
      "cell_type": "code",
      "source": [
        "# create a simple dataset for plotting\n",
        "df = pd.DataFrame(data = {\n",
        "    'fruits': ['Apple', 'Orange', 'Banana'],\n",
        "    'sales': [80, 30, 55],\n",
        "})\n",
        "df"
      ],
      "metadata": {
        "id": "XsVpwlsC_LI7"
      },
      "execution_count": null,
      "outputs": []
    },
    {
      "cell_type": "code",
      "source": [
        "# Approach 1 (script layer; implicit; stateful;)\n",
        "\n",
        "# call plt.bar() function from matplotlib.pyplot\n",
        "# implicitly create figure and axes\n",
        "plt.bar(x=df[\"fruits\"], height=df[\"sales\"])\n",
        "\n",
        "# call pyplot level functions to set title and ylabel\n",
        "# implicitly refer to the current axes’ title and ylabel\n",
        "plt.title(\"Fruit sales\")\n",
        "plt.ylabel(\"fruit sales (M)\")\n",
        "\n",
        "# show the plot (not needed here in the notebook setting, but needed if running the code in the terminal)\n",
        "plt.show()"
      ],
      "metadata": {
        "id": "QeMjMEsKIydM"
      },
      "execution_count": null,
      "outputs": []
    },
    {
      "cell_type": "code",
      "source": [
        "# Approach 2 (artist layer; explicit; stateless; OOP;)\n",
        "\n",
        "# create a figure and an axes (subplot)\n",
        "fig2, ax2 = plt.subplots()\n",
        "\n",
        "# explicitly call the bar method of the axes just created\n",
        "ax2.bar(x=df[\"fruits\"], height=df[\"sales\"])\n",
        "\n",
        "# explicitly call the set_xyz() methods of the axes instance\n",
        "ax2.set_ylabel(\"fruit sales (M)\")\n",
        "ax2.set_title(\"Fruit sales\")\n",
        "\n",
        "# show the plot\n",
        "plt.show()"
      ],
      "metadata": {
        "id": "3-LkbEabACw2"
      },
      "execution_count": null,
      "outputs": []
    },
    {
      "cell_type": "markdown",
      "source": [
        "When you have multiple subplots, using the second approach (working at the artist layer) allows you to be explicit about which subplot you are working on. This makes the code much more readable."
      ],
      "metadata": {
        "id": "zd7cxFvNV4pZ"
      }
    },
    {
      "cell_type": "code",
      "source": [
        "# Approach 2 gives cleaner code when having more than one subplot\n",
        "fig, axes = plt.subplots(nrows=1, ncols=2, layout=\"constrained\")\n",
        "\n",
        "axes[0].bar(x=df[\"fruits\"], height=df[\"sales\"])\n",
        "axes[0].set_ylabel(\"fruit sales (M)\")\n",
        "axes[0].set_title(\"Fruit Sales\")\n",
        "\n",
        "rects = axes[1].bar(x=df[\"fruits\"], height=df[\"sales\"], color=\"lightgray\")\n",
        "axes[1].bar_label(rects, padding=3)\n",
        "axes[1].spines[[\"top\", \"right\", \"left\"]].set_visible(False)\n",
        "axes[1].yaxis.set_visible(False)\n",
        "axes[1].set_title(\"Fruit Sales (M)\")\n",
        "\n",
        "fig.suptitle(\"Default vs Customized\")\n",
        "\n",
        "plt.show()"
      ],
      "metadata": {
        "id": "9J3Tesz4Fmp1"
      },
      "execution_count": null,
      "outputs": []
    },
    {
      "cell_type": "code",
      "source": [],
      "metadata": {
        "id": "KLFsT4xkFmes"
      },
      "execution_count": null,
      "outputs": []
    }
  ]
}