{
  "nbformat": 4,
  "nbformat_minor": 0,
  "metadata": {
    "colab": {
      "provenance": []
    },
    "kernelspec": {
      "name": "python3",
      "display_name": "Python 3"
    },
    "language_info": {
      "name": "python"
    }
  },
  "cells": [
    {
      "cell_type": "markdown",
      "source": [
        "# 1 Intro\n",
        "\n",
        "This notebook demonstrates how to create basic plots with Matplotlib's default style. In most cases, we apply none or minimal customization/refinement to showcase Matplotlib's basic functionalities.\n",
        "\n",
        "In addition, we explore how to achieve the same plots using [Seaborn](https://seaborn.pydata.org/index.html), a high-level data visualization library built on Matplotlib. Seaborn excels at producing (reasonably) good-looking plots with minimal effort, so if you want to quickly create a basic plot that does not need extensive customization, Seaborn can sometimes be a good choice.\n",
        "\n",
        "At the end of this notebook, we create an advanced plot, [bubble plot](https://en.wikipedia.org/wiki/Bubble_chart). This gives you a taste of how Matplotlib plots can be extensively customized.\n",
        "\n",
        "The main reference for this notebook is this Matplotlib document [*Overview of Matplotlib Common Plots*](https://matplotlib.org/stable/plot_types/index.html)."
      ],
      "metadata": {
        "id": "PYshYZFDCVOH"
      }
    },
    {
      "cell_type": "code",
      "execution_count": null,
      "metadata": {
        "id": "WFyBWbcGbsTB"
      },
      "outputs": [],
      "source": [
        "import pandas as pd\n",
        "import matplotlib.pyplot as plt\n",
        "import seaborn as sns"
      ]
    },
    {
      "cell_type": "markdown",
      "source": [
        "# 2 Data\n",
        "\n",
        "We will use the gampminder dataset (1952-2007) for all the plots. This dataset contains time series of development statistics for countries around world. The famous animated bubble plot of [World Health Chart](https://www.gapminder.org/fw/world-health-chart/) is based on this dataset. You can find a more comprehensive and updated gapminder dataset [here](https://www.gapminder.org/data/).\n",
        "\n",
        "We first load the dataset and then take a quick look at it."
      ],
      "metadata": {
        "id": "9or4noUi7tSZ"
      }
    },
    {
      "cell_type": "code",
      "source": [
        "# load the data\n",
        "data_url = \"https://github.com/tdmdal/datasets-teaching/raw/main/gapminder/gapminder.csv\"\n",
        "gapminder = pd.read_csv(data_url)"
      ],
      "metadata": {
        "id": "m9pnEUizcL67"
      },
      "execution_count": null,
      "outputs": []
    },
    {
      "cell_type": "code",
      "source": [
        "# display first 5 rows\n",
        "gapminder.head()"
      ],
      "metadata": {
        "id": "4IVEK0whcQ-h"
      },
      "execution_count": null,
      "outputs": []
    },
    {
      "cell_type": "code",
      "source": [
        "# check column types\n",
        "gapminder.dtypes"
      ],
      "metadata": {
        "id": "6eQ109FhcTd9"
      },
      "execution_count": null,
      "outputs": []
    },
    {
      "cell_type": "code",
      "source": [
        "# display summary statistics\n",
        "gapminder.describe()"
      ],
      "metadata": {
        "id": "m7BCj1vOcgWG"
      },
      "execution_count": null,
      "outputs": []
    },
    {
      "cell_type": "code",
      "source": [
        "# display unique years\n",
        "gapminder[\"year\"].unique()"
      ],
      "metadata": {
        "id": "FJJG2cARfKN9"
      },
      "execution_count": null,
      "outputs": []
    },
    {
      "cell_type": "code",
      "source": [
        "# display unique countries\n",
        "gapminder[\"country\"].unique()"
      ],
      "metadata": {
        "id": "EcHzhdoXEc4Q"
      },
      "execution_count": null,
      "outputs": []
    },
    {
      "cell_type": "markdown",
      "source": [
        "# 3 Basic Plots"
      ],
      "metadata": {
        "id": "J-kHyEArEK89"
      }
    },
    {
      "cell_type": "markdown",
      "source": [
        "## 3.1 Simple bar plot\n",
        "\n",
        "We create a bar plot for population of Canada in 1997, 2002 and 2007."
      ],
      "metadata": {
        "id": "O6aPE_GUERbX"
      }
    },
    {
      "cell_type": "code",
      "source": [
        "# prepare data\n",
        "gm_canada_after97 = gapminder[(gapminder[\"country\"] == \"Canada\") & (gapminder[\"year\"] >= 1997)]\n",
        "gm_canada_after97.head()"
      ],
      "metadata": {
        "id": "ALHgQ3Eld10X"
      },
      "execution_count": null,
      "outputs": []
    },
    {
      "cell_type": "markdown",
      "source": [
        "### Matplotlib"
      ],
      "metadata": {
        "id": "16PcH33IE6GE"
      }
    },
    {
      "cell_type": "code",
      "source": [
        "# matplotlib default\n",
        "fig, ax = plt.subplots()\n",
        "\n",
        "# https://matplotlib.org/stable/api/_as_gen/matplotlib.axes.Axes.bar.html\n",
        "ax.bar(x=gm_canada_after97[\"year\"], height=gm_canada_after97[\"pop\"])\n",
        "\n",
        "# set y label and plot title\n",
        "ax.set_ylabel(\"Population\")\n",
        "ax.set_title(\"Canada Population\")\n",
        "\n",
        "# optional in notebook\n",
        "plt.show()"
      ],
      "metadata": {
        "id": "choOx4X3cBsB"
      },
      "execution_count": null,
      "outputs": []
    },
    {
      "cell_type": "code",
      "source": [
        "# matplotlib default + minor refinement\n",
        "fig, ax = plt.subplots()\n",
        "\n",
        "# convert population to M unit; specify bar width\n",
        "ax.bar(x=gm_canada_after97[\"year\"], height=gm_canada_after97[\"pop\"]/1_000_000, width=2)\n",
        "\n",
        "# set y label and plot title\n",
        "ax.set_ylabel(\"Population (M)\")\n",
        "ax.set_title(\"Canada Population\")\n",
        "\n",
        "# specify xticks\n",
        "xticks = [1997, 2002, 2007]\n",
        "ax.set_xticks(xticks)\n",
        "\n",
        "# optional in notebook\n",
        "plt.show()"
      ],
      "metadata": {
        "id": "iZSa1j53o4n5"
      },
      "execution_count": null,
      "outputs": []
    },
    {
      "cell_type": "markdown",
      "source": [
        "### Seaborn"
      ],
      "metadata": {
        "id": "9OfgzLqbFJMo"
      }
    },
    {
      "cell_type": "code",
      "source": [
        "# seaborn default\n",
        "# https://seaborn.pydata.org/generated/seaborn.barplot.html\n",
        "ax = sns.barplot(x=\"year\", y=\"pop\", data=gm_canada_after97)\n",
        "ax.set_ylabel(\"Population\")\n",
        "ax.set_title(\"Canada Population\")\n",
        "\n",
        "# optional in notebook\n",
        "plt.show()"
      ],
      "metadata": {
        "id": "j5SVToIHhh7B"
      },
      "execution_count": null,
      "outputs": []
    },
    {
      "cell_type": "markdown",
      "source": [
        "### Exercise\n",
        "\n",
        "Create a bar plot for GDP per capita of Canada 1997, 2002 and 2007."
      ],
      "metadata": {
        "id": "y1iFcTCOIpHq"
      }
    },
    {
      "cell_type": "code",
      "source": [
        "# your code here\n",
        "\n"
      ],
      "metadata": {
        "id": "8njUIAJgI5Na"
      },
      "execution_count": null,
      "outputs": []
    },
    {
      "cell_type": "markdown",
      "source": [
        "## 3.2 Grouped bar plot\n",
        "\n",
        "We create a grouped bar plot comparing GDP per capita between Canada and USA in 1997, 2002 and 2007."
      ],
      "metadata": {
        "id": "t61le_6UGHjd"
      }
    },
    {
      "cell_type": "code",
      "source": [
        "# prepare data\n",
        "gm_canada_us_after97 = gapminder[(gapminder[\"country\"].isin([\"Canada\", \"United States\"])) & (gapminder[\"year\"] >= 1997)]\n",
        "gm_canada_us_after97.head()"
      ],
      "metadata": {
        "id": "wJePPkml4LUL"
      },
      "execution_count": null,
      "outputs": []
    },
    {
      "cell_type": "markdown",
      "source": [
        "### Matplotlib"
      ],
      "metadata": {
        "id": "--u8sHM1S9tm"
      }
    },
    {
      "cell_type": "code",
      "source": [
        "# matplotlib default + minor refinement\n",
        "\n",
        "# further prepare data\n",
        "can = gm_canada_us_after97[gm_canada_us_after97[\"country\"]==\"Canada\"]\n",
        "us = gm_canada_us_after97[gm_canada_us_after97[\"country\"]==\"United States\"]\n",
        "\n",
        "fig, ax = plt.subplots()\n",
        "\n",
        "# define bar width and offset for grouped bar plot\n",
        "bar_width = 1.6\n",
        "offset = bar_width / 2\n",
        "\n",
        "# plot 3 bars for Canada and then for USA\n",
        "# Note that the starting x locations of the bars are calculated so that the bars\n",
        "# for Canada and USA don't overlap\n",
        "ax.bar(x=can[\"year\"]-offset, height=can[\"gdpPercap\"], width=bar_width, label=\"Canada\")\n",
        "ax.bar(x=us[\"year\"]+offset, height=us[\"gdpPercap\"], width=bar_width, label=\"USA\")\n",
        "\n",
        "# set y label and plot title\n",
        "ax.set_ylabel(\"GDP per capita (USD)\")\n",
        "ax.set_title(\"GDP per capita (Canada vs. USA)\")\n",
        "\n",
        "# specify xticks\n",
        "xticks = [1997, 2002, 2007]\n",
        "ax.set_xticks(xticks)\n",
        "\n",
        "# add legends based on bar labels\n",
        "ax.legend(loc='upper left')\n",
        "\n",
        "# optional in notebook\n",
        "plt.show()"
      ],
      "metadata": {
        "id": "WnAG0lR6Fa2K"
      },
      "execution_count": null,
      "outputs": []
    },
    {
      "cell_type": "markdown",
      "source": [
        "### Seanborn"
      ],
      "metadata": {
        "id": "9plUfOjsTBeV"
      }
    },
    {
      "cell_type": "code",
      "source": [
        "# https://seaborn.pydata.org/generated/seaborn.barplot.html\n",
        "# note the hue argument\n",
        "ax = sns.barplot(x=\"year\", y=\"gdpPercap\", hue=\"country\", data=gm_canada_us_after97)\n",
        "ax.set_ylabel(\"GDP per capita (USD)\")\n",
        "ax.set_title(\"GDP per capita (Canada vs. USA)\")\n",
        "\n",
        "# optional in notebook\n",
        "plt.show()"
      ],
      "metadata": {
        "id": "LeTbmmw8OrNw"
      },
      "execution_count": null,
      "outputs": []
    },
    {
      "cell_type": "markdown",
      "source": [
        "### Pandas `DataFrame.plot.bar()`"
      ],
      "metadata": {
        "id": "d3jTx-GKTFDS"
      }
    },
    {
      "cell_type": "code",
      "source": [
        "# pivot the data frame to the right format before using DataFrame.plot.bar()\n",
        "gm_plot = pd.pivot_table(gm_canada_us_after97, values='gdpPercap', index='year', columns=['country'])\n",
        "gm_plot.head()"
      ],
      "metadata": {
        "id": "pDPz052MS1XK"
      },
      "execution_count": null,
      "outputs": []
    },
    {
      "cell_type": "code",
      "source": [
        "# grouped bar plot using pandas DataFrame.plot.bar()\n",
        "ax = gm_plot.plot.bar()\n",
        "ax.set_ylabel(\"GDP per capita (USD)\")\n",
        "ax.set_title(\"GDP per capita (Canada vs. USA)\")\n",
        "\n",
        "# optional in notebook\n",
        "plt.show()"
      ],
      "metadata": {
        "id": "u6Amf2XkWC_C"
      },
      "execution_count": null,
      "outputs": []
    },
    {
      "cell_type": "markdown",
      "source": [
        "### Exercise\n",
        "\n",
        "Create a grouped bar plot comparing GDP per capita of Canada, USA and Japan in 1997, 2002 and 2007."
      ],
      "metadata": {
        "id": "VB3K2fFeD-XM"
      }
    },
    {
      "cell_type": "code",
      "source": [
        "# your code here\n",
        "\n"
      ],
      "metadata": {
        "id": "hdap8QJ8D-yj"
      },
      "execution_count": null,
      "outputs": []
    },
    {
      "cell_type": "markdown",
      "source": [
        "## 3.3 Line plot\n",
        "\n",
        "Create a line plot for GDP per capita (Canada vs USA) from 1952 to 2007."
      ],
      "metadata": {
        "id": "XepsdTcnTop6"
      }
    },
    {
      "cell_type": "markdown",
      "source": [
        "### Matplotlib"
      ],
      "metadata": {
        "id": "uZJ9IuyaUHak"
      }
    },
    {
      "cell_type": "code",
      "source": [
        "# prepare data\n",
        "gm_canada = gapminder[gapminder[\"country\"] == \"Canada\"]\n",
        "gm_usa = gapminder[gapminder[\"country\"] == \"United States\"]"
      ],
      "metadata": {
        "id": "_gRzOMVpssGw"
      },
      "execution_count": null,
      "outputs": []
    },
    {
      "cell_type": "code",
      "source": [
        "fig, ax = plt.subplots()\n",
        "\n",
        "# https://matplotlib.org/stable/api/_as_gen/matplotlib.axes.Axes.plot.html\n",
        "ax.plot(gm_canada[\"year\"], gm_canada[\"gdpPercap\"], marker=\".\", label=\"Canada\")\n",
        "ax.plot(gm_usa[\"year\"], gm_usa[\"gdpPercap\"], marker=\".\", label=\"USA\")\n",
        "\n",
        "# set y-axis label and plot title\n",
        "ax.set_ylabel(\"GDP per capita (USD)\")\n",
        "ax.set_title(\"GDP per capita (Canada vs. USA)\")\n",
        "\n",
        "# specify xticks\n",
        "xticks = list(range(1952, 2008, 5))\n",
        "ax.set_xticks(xticks)\n",
        "\n",
        "# add legends based on line labels\n",
        "ax.legend(loc='upper left')\n",
        "\n",
        "# optional in notebook\n",
        "plt.show()"
      ],
      "metadata": {
        "id": "D3TSnGQKscte"
      },
      "execution_count": null,
      "outputs": []
    },
    {
      "cell_type": "markdown",
      "source": [
        "### Seaborn"
      ],
      "metadata": {
        "id": "yg4LNxtbUM2W"
      }
    },
    {
      "cell_type": "code",
      "source": [
        "# prepare data for seaborn plot\n",
        "gm_canada_usa = gapminder[(gapminder[\"country\"].isin([\"Canada\", \"United States\"]))]"
      ],
      "metadata": {
        "id": "SP-du6zQEmWk"
      },
      "execution_count": null,
      "outputs": []
    },
    {
      "cell_type": "code",
      "source": [
        "# https://seaborn.pydata.org/generated/seaborn.lineplot.html\n",
        "ax = sns.lineplot(data=gm_canada_usa, x=\"year\", y=\"gdpPercap\",\n",
        "                  hue=\"country\", markers=True, style=\"country\")\n",
        "\n",
        "# specify xticks\n",
        "xticks = list(range(1952, 2008, 5))\n",
        "ax.set_xticks(xticks)\n",
        "\n",
        "# set y-axis label and plot title\n",
        "ax.set_ylabel(\"GDP per capita (USD)\")\n",
        "ax.set_title(\"GDP per capita (Canada vs. USA)\")\n",
        "\n",
        "# remove the default legend title\n",
        "ax.get_legend().set_title(None)\n",
        "\n",
        "# optional in notebook\n",
        "plt.show()"
      ],
      "metadata": {
        "id": "MCe-w-fyEYaA"
      },
      "execution_count": null,
      "outputs": []
    },
    {
      "cell_type": "markdown",
      "source": [
        "### Exercise\n",
        "\n",
        "Create a line plot of life expectancy (Canada vs USA) from 1952 to 2007."
      ],
      "metadata": {
        "id": "B17VZoZmG1-z"
      }
    },
    {
      "cell_type": "code",
      "source": [
        "# your code here\n",
        "\n"
      ],
      "metadata": {
        "id": "yILuf7x5HF0L"
      },
      "execution_count": null,
      "outputs": []
    },
    {
      "cell_type": "markdown",
      "source": [
        "## 3.4 Histogram\n",
        "\n",
        "Plot histograms for life expectancy across countries in 1952 and 2007."
      ],
      "metadata": {
        "id": "O01CJzawljA-"
      }
    },
    {
      "cell_type": "markdown",
      "source": [
        "### Matplotlib"
      ],
      "metadata": {
        "id": "XqEs7QE4oBr8"
      }
    },
    {
      "cell_type": "code",
      "source": [
        "# prepare data for matplotlib plot\n",
        "gm_1952 = gapminder[gapminder[\"year\"] == 1952]\n",
        "gm_2007 = gapminder[gapminder[\"year\"] == 2007]"
      ],
      "metadata": {
        "id": "4gmw34V9yH3u"
      },
      "execution_count": null,
      "outputs": []
    },
    {
      "cell_type": "code",
      "source": [
        "# two histogram on the same plot (an ax object)\n",
        "fig, ax = plt.subplots()\n",
        "\n",
        "# https://matplotlib.org/stable/api/_as_gen/matplotlib.axes.Axes.hist.html\n",
        "ax.hist(gm_1952[\"lifeExp\"], bins=20, alpha=0.5, label=1952)\n",
        "ax.hist(gm_2007[\"lifeExp\"], bins=20, alpha=0.5, label=2007)\n",
        "\n",
        "ax.set_ylabel(\"Count\")\n",
        "ax.set_xlabel(\"Life Expectancy (Year)\")\n",
        "ax.set_title(\"Histogram of Life Expectancy across Countries\")\n",
        "\n",
        "ax.legend(loc='upper left')\n",
        "\n",
        "# optional in notebook\n",
        "plt.show()"
      ],
      "metadata": {
        "id": "G4FOSFIsyK2f"
      },
      "execution_count": null,
      "outputs": []
    },
    {
      "cell_type": "code",
      "source": [
        "# two histogram on two sub-plots (two ax objects)\n",
        "fig, ax = plt.subplots(nrows=1, ncols=2, sharex=True, sharey=True)\n",
        "\n",
        "# https://matplotlib.org/stable/api/_as_gen/matplotlib.axes.Axes.hist.html\n",
        "ax[0].hist(gm_1952[\"lifeExp\"], bins=20, edgecolor=\"white\", alpha=0.5)\n",
        "ax[1].hist(gm_2007[\"lifeExp\"], bins=20, edgecolor=\"white\", alpha=0.5)\n",
        "\n",
        "# https://matplotlib.org/stable/api/_as_gen/matplotlib.axes.Axes.tick_params.html#matplotlib.axes.Axes.tick_params\n",
        "ax[1].yaxis.set_tick_params(labelleft=True)\n",
        "\n",
        "ax[0].set_ylabel(\"Count\")\n",
        "\n",
        "ax[0].set_xlabel(\"Life Expectancy (Year)\")\n",
        "ax[1].set_xlabel(\"Life Expectancy (Year)\")\n",
        "\n",
        "ax[0].set_title(\"1952\")\n",
        "ax[1].set_title(\"2007\")\n",
        "\n",
        "fig.suptitle(\"Histogram of Life Expectancy across Countries\")\n",
        "\n",
        "# optional in notebook\n",
        "plt.show()"
      ],
      "metadata": {
        "id": "EQevfX50rLCL"
      },
      "execution_count": null,
      "outputs": []
    },
    {
      "cell_type": "markdown",
      "source": [
        "### Seaborn"
      ],
      "metadata": {
        "id": "xwfFN5a9wVml"
      }
    },
    {
      "cell_type": "code",
      "source": [
        "# prepare data for seanborn histogram plot\n",
        "gm_1952_2007 = gapminder[(gapminder[\"year\"].isin([1952, 2007]))]\n",
        "\n",
        "# two histogram on the same plot (an ax object)\n",
        "ax = sns.histplot(data=gm_1952_2007, x=\"lifeExp\", hue=\"year\", bins=20, multiple=\"layer\")\n",
        "\n",
        "ax.set_ylabel(\"Count\")\n",
        "ax.set_xlabel(\"Life Expectancy (Year)\")\n",
        "ax.set_title(\"Histogram of Life Expectancy across Countries\")\n",
        "\n",
        "# optional in notebook\n",
        "plt.show()"
      ],
      "metadata": {
        "id": "OqYDCU49QMko"
      },
      "execution_count": null,
      "outputs": []
    },
    {
      "cell_type": "code",
      "source": [
        "# two histogram on two sub-plots (two ax objects)\n",
        "\n",
        "# prepare data for seanborn histogram plot\n",
        "gm_1952_2007 = gapminder[(gapminder[\"year\"].isin([1952, 2007]))]\n",
        "\n",
        "# two histogram on the same plot (an ax object)\n",
        "# note the col argument\n",
        "ax = sns.displot(data=gm_1952_2007, x=\"lifeExp\", col=\"year\", bins=20)\n",
        "\n",
        "# https://seaborn.pydata.org/generated/seaborn.FacetGrid.set_xlabels.html\n",
        "ax.set_xlabels(\"Life Expectancy (Year)\")\n",
        "\n",
        "# https://matplotlib.org/stable/api/_as_gen/matplotlib.pyplot.subplots_adjust.html\n",
        "ax.fig.subplots_adjust(top=0.85)\n",
        "ax.fig.suptitle(\"Histogram of Life Expectancy across Countries\")\n",
        "\n",
        "# optional in notebook\n",
        "plt.show()"
      ],
      "metadata": {
        "id": "0gE-xIRSyJLE"
      },
      "execution_count": null,
      "outputs": []
    },
    {
      "cell_type": "markdown",
      "source": [
        "### Exercise\n",
        "\n",
        "Create a histograms for life expectancy across countries in 2007. Plot the probability density (instead of the count), and a density curve too."
      ],
      "metadata": {
        "id": "j94w_jyWKoZq"
      }
    },
    {
      "cell_type": "code",
      "source": [
        "# using matplotlib\n",
        "\n",
        "from scipy.stats import gaussian_kde\n",
        "import numpy as np\n",
        "\n",
        "# https://docs.scipy.org/doc/scipy/reference/generated/scipy.stats.gaussian_kde.html\n",
        "density = gaussian_kde(gm_2007[\"lifeExp\"])\n",
        "xs = np.linspace(gm_2007[\"lifeExp\"].min(), gm_2007[\"lifeExp\"].max(), 100)\n",
        "ys = density(xs)\n",
        "\n",
        "fig, ax = plt.subplots()\n",
        "\n",
        "# insert your code here\n",
        "\n",
        "# optional in notebook\n",
        "plt.show()"
      ],
      "metadata": {
        "id": "44m8ue0NKo8S"
      },
      "execution_count": null,
      "outputs": []
    },
    {
      "cell_type": "code",
      "source": [
        "# using seaborn\n",
        "\n"
      ],
      "metadata": {
        "id": "Q9edK_hXOQiv"
      },
      "execution_count": null,
      "outputs": []
    },
    {
      "cell_type": "markdown",
      "source": [
        "## 3.5 Scatter plot\n",
        "\n",
        "Produce a scatter plot of life expectancy against GDP per capita in 2007."
      ],
      "metadata": {
        "id": "I3HXQ_vRwmgt"
      }
    },
    {
      "cell_type": "markdown",
      "source": [
        "### Matplotlib"
      ],
      "metadata": {
        "id": "tKG-1iQC6GsM"
      }
    },
    {
      "cell_type": "code",
      "source": [
        "fig, ax = plt.subplots()\n",
        "\n",
        "# https://matplotlib.org/stable/api/_as_gen/matplotlib.pyplot.scatter.html\n",
        "ax.scatter(gm_2007[\"gdpPercap\"], gm_2007[\"lifeExp\"], alpha=0.5)\n",
        "\n",
        "ax.set_ylabel(\"Life expectancy (Year)\")\n",
        "ax.set_xlabel(\"GDP per capita (USD)\")\n",
        "ax.set_title(\"Life expectancy vs. GDP per capita (2007)\")\n",
        "\n",
        "# optional in notebook\n",
        "plt.show()"
      ],
      "metadata": {
        "id": "s_s88bmiy7cC"
      },
      "execution_count": null,
      "outputs": []
    },
    {
      "cell_type": "markdown",
      "source": [
        "### Seanborn"
      ],
      "metadata": {
        "id": "7ZJMvWjI6SRF"
      }
    },
    {
      "cell_type": "code",
      "source": [
        "# https://seaborn.pydata.org/generated/seaborn.scatterplot.html\n",
        "ax = sns.scatterplot(data=gm_2007, x=\"gdpPercap\", y=\"lifeExp\", alpha=0.5)\n",
        "\n",
        "ax.set_ylabel(\"Life expectancy (Year)\")\n",
        "ax.set_xlabel(\"GDP per capita (USD)\")\n",
        "ax.set_title(\"Life expectancy vs. GDP per capita (2007)\")\n",
        "\n",
        "# optional in notebook\n",
        "plt.show()"
      ],
      "metadata": {
        "id": "ZcqFWwr4PyLf"
      },
      "execution_count": null,
      "outputs": []
    },
    {
      "cell_type": "markdown",
      "source": [
        "### Exercise\n",
        "\n",
        "Produce two scatter sub-plots of life expectancy against GDP per capita in 1952 and 2007."
      ],
      "metadata": {
        "id": "HIsngfcVPNl3"
      }
    },
    {
      "cell_type": "code",
      "source": [
        "# Your code here\n",
        "\n"
      ],
      "metadata": {
        "id": "zlznN3ppPOBv"
      },
      "execution_count": null,
      "outputs": []
    },
    {
      "cell_type": "markdown",
      "source": [
        "# 4 Bubble plot\n",
        "\n",
        "It isn't trivial to create a good-looking bubble plot using Matplotlib. Getting the size of the bubble and the legend right takes some effort. Below we first produce a bubble plot with almost no customization. We then refine it to make it look better.\n",
        "\n",
        "We won't attempt to customize the bubble plot created using Seaborn."
      ],
      "metadata": {
        "id": "WHPwBvuDW1b7"
      }
    },
    {
      "cell_type": "markdown",
      "source": [
        "## Matplotlib"
      ],
      "metadata": {
        "id": "Fl6seIZIW5l1"
      }
    },
    {
      "cell_type": "code",
      "source": [
        "# Matplotlib bubble plot with no refinement\n",
        "\n",
        "fig, ax = plt.subplots()\n",
        "\n",
        "# https://matplotlib.org/stable/api/_as_gen/matplotlib.pyplot.scatter.html\n",
        "scatter = ax.scatter(\n",
        "    x = gm_2007[\"gdpPercap\"],\n",
        "    y = gm_2007[\"lifeExp\"],\n",
        "    s = gm_2007[\"pop\"]/200000,\n",
        "    c = gm_2007[\"continent\"].astype(\"category\").cat.codes,\n",
        ")\n",
        "\n",
        "ax.set_ylabel(\"Life expectancy (Year)\")\n",
        "ax.set_xlabel(\"GDP per capita (USD)\")\n",
        "ax.figure.suptitle(\"Life expectancy vs. GDP per capita (2007)\")\n",
        "\n",
        "# optional in notebook\n",
        "plt.show()"
      ],
      "metadata": {
        "id": "C15O4HyBQTSZ"
      },
      "execution_count": null,
      "outputs": []
    },
    {
      "cell_type": "code",
      "source": [
        "# Matplotlib bubble plot with refinement\n",
        "\n",
        "from matplotlib import ticker\n",
        "\n",
        "fig, ax = plt.subplots()\n",
        "\n",
        "# set the factor to adjust the size of the bubble\n",
        "size_factor = 200_000\n",
        "\n",
        "# obtain continent category code mapping (for legend label later)\n",
        "continent_code_dict = dict(zip(gm_2007['continent'].astype(\"category\").cat.codes, gm_2007['continent']))\n",
        "continent_list_ordered = [v for k,v in dict(sorted(continent_code_dict.items())).items()]\n",
        "\n",
        "# https://matplotlib.org/stable/api/_as_gen/matplotlib.pyplot.scatter.html\n",
        "scatter = ax.scatter(\n",
        "    x = gm_2007[\"gdpPercap\"],\n",
        "    y = gm_2007[\"lifeExp\"],\n",
        "    s = gm_2007[\"pop\"]/size_factor,\n",
        "    c = gm_2007[\"continent\"].astype(\"category\").cat.codes,\n",
        "    cmap = \"Accent\",\n",
        "    alpha = 0.6,\n",
        "    edgecolors = \"black\",\n",
        "    linewidths = 0.5\n",
        ")\n",
        "\n",
        "ax.set_ylabel(\"Life expectancy (Year)\")\n",
        "ax.set_xlabel(\"GDP per capita (USD)\")\n",
        "ax.figure.suptitle(\"Life expectancy vs. GDP per capita (2007)\")\n",
        "\n",
        "# https://matplotlib.org/stable/api/spines_api.html\n",
        "ax.spines[[\"top\", \"right\"]].set_visible(False)\n",
        "\n",
        "# set y axis top limit to 85 so one top bubble doesn't miss a part\n",
        "# https://matplotlib.org/stable/api/_as_gen/matplotlib.axes.Axes.set_ylim.html\n",
        "ax.set_ylim(bottom=None, top=85)\n",
        "\n",
        "# format the x-axis major ticker label\n",
        "ax.xaxis.set_major_formatter(ticker.StrMethodFormatter(\"{x:,.0f}\"))\n",
        "\n",
        "# handle legend\n",
        "# https://matplotlib.org/stable/gallery/lines_bars_and_markers/scatter_with_legend.html\n",
        "handles1, labels1 = scatter.legend_elements(prop=\"colors\")\n",
        "labels1 = continent_list_ordered\n",
        "legend1 = ax.legend(handles1, labels1, loc=\"lower right\", title=\"Continent\", framealpha=0)\n",
        "ax.add_artist(legend1)\n",
        "\n",
        "handles2, labels2 = scatter.legend_elements(prop=\"sizes\",\n",
        "                                            num=[10_000_000, 30_000_000],\n",
        "                                            # fmt=\"{x:,.0e}\",\n",
        "                                            func = lambda x: x*size_factor,\n",
        "                                            alpha=0.3)\n",
        "# manually set the label instead of using the default formatter or fmt argument\n",
        "labels2 = [\"10M\", \"30M\"]\n",
        "legend2 = ax.legend(handles2, labels2, loc=\"center right\", title=\"Population\", framealpha=0)\n",
        "ax.add_artist(legend2)\n",
        "\n",
        "# optional in notebook\n",
        "plt.show()"
      ],
      "metadata": {
        "id": "CEVImKlSw55Z"
      },
      "execution_count": null,
      "outputs": []
    },
    {
      "cell_type": "markdown",
      "source": [
        "## Seaborn"
      ],
      "metadata": {
        "id": "7c7WC2xJW8Ke"
      }
    },
    {
      "cell_type": "code",
      "source": [
        "# use the default seaborn plot\n",
        "# still need refinement, but leave it as it is for now\n",
        "gm_2007_new = gm_2007.copy()\n",
        "gm_2007_new[\"pop\"] = gm_2007_new[\"pop\"] / 1_000_000\n",
        "\n",
        "# https://seaborn.pydata.org/generated/seaborn.scatterplot.html\n",
        "ax = sns.scatterplot(\n",
        "    data=gm_2007_new,\n",
        "    x=\"gdpPercap\",\n",
        "    y=\"lifeExp\",\n",
        "    size=\"pop\",\n",
        "    hue=\"continent\",\n",
        "    alpha=0.5,\n",
        "    sizes=(20, 800)\n",
        ")\n",
        "\n",
        "# sns.move_legend(ax, \"upper left\", bbox_to_anchor=(1, 1))\n",
        "\n",
        "ax.set_ylabel(\"Life expectancy (Year)\")\n",
        "ax.set_xlabel(\"GDP per capita (USD)\")\n",
        "ax.set_title(\"Life expectancy vs. GDP per capita (2007)\")\n",
        "\n",
        "# optional in notebook\n",
        "plt.show()"
      ],
      "metadata": {
        "id": "oD6Cfcyc9Lta"
      },
      "execution_count": null,
      "outputs": []
    },
    {
      "cell_type": "code",
      "source": [],
      "metadata": {
        "id": "MIjnmXOQ_nsC"
      },
      "execution_count": null,
      "outputs": []
    }
  ]
}