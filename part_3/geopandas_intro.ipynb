{
  "cells": [
    {
      "cell_type": "markdown",
      "metadata": {
        "id": "-kjOZPSQ9lRI"
      },
      "source": [
        "# 0 Intro\n",
        "\n",
        "This notebook is a quick intro to [GeoPandas](https://geopandas.org/en/stable/index.html). You may also want to go through the official [intro notebook](https://geopandas.org/en/stable/getting_started/introduction.html) at GeoPandas document site.\n",
        "\n",
        "> GeoPandas is an open source project to make working with geospatial data in python easier. GeoPandas extends the datatypes used by [pandas](http://pandas.pydata.org/) to allow spatial operations on geometric types. Geometric operations are performed by [shapely](https://shapely.readthedocs.io/en/stable/). Geopandas further depends on [fiona](https://fiona.readthedocs.io/en/stable/) for file access and [matplotlib](https://matplotlib.org/) for plotting.\n",
        ">\n",
        "> -- from [GeoPandas Doc](https://geopandas.org/en/stable/index.html)"
      ]
    },
    {
      "cell_type": "markdown",
      "metadata": {
        "id": "mtBPHlvDSYl0"
      },
      "source": [
        "# 1 Setup"
      ]
    },
    {
      "cell_type": "code",
      "execution_count": null,
      "metadata": {
        "id": "T_HJ_56_OZtq"
      },
      "outputs": [],
      "source": [
        "import matplotlib as mpl\n",
        "import matplotlib.pyplot as plt\n",
        "import geopandas as gpd\n",
        "import pandas as pd"
      ]
    },
    {
      "cell_type": "code",
      "execution_count": null,
      "metadata": {
        "id": "OMqfDfi2nAm8"
      },
      "outputs": [],
      "source": [
        "print(f\"matplotlib version: {mpl.__version__}\")\n",
        "print(f\"geopandas version: {gpd.__version__}\")\n",
        "print(f\"pandas version: {pd.__version__}\")"
      ]
    },
    {
      "cell_type": "code",
      "execution_count": null,
      "metadata": {
        "id": "qmlRXKNTldpl"
      },
      "outputs": [],
      "source": [
        "# display all table columns\n",
        "pd.set_option('display.max_columns', None)"
      ]
    },
    {
      "cell_type": "code",
      "execution_count": null,
      "metadata": {
        "id": "TihVwLy8PIB-"
      },
      "outputs": [],
      "source": [
        "# get the Canada province boundary shape files (the digital boundary files) from Stats Canada\n",
        "# the digital boundary files portray the full extent of the geographic areas, including the coastal water area\n",
        "# https://www12.statcan.gc.ca/census-recensement/2021/geo/sip-pis/boundary-limites/index2021-eng.cfm?year=21\n",
        "!wget --quiet https://www12.statcan.gc.ca/census-recensement/2021/geo/sip-pis/boundary-limites/files-fichiers/lpr_000a21a_e.zip"
      ]
    },
    {
      "cell_type": "code",
      "execution_count": null,
      "metadata": {
        "id": "8WEZpDamgfz8"
      },
      "outputs": [],
      "source": [
        "# check what's in the zipped file (not unzipping it)\n",
        "import zipfile\n",
        "\n",
        "with zipfile.ZipFile(\"lpr_000a21a_e.zip\", mode=\"r\") as archive:\n",
        "    archive.printdir()"
      ]
    },
    {
      "cell_type": "markdown",
      "metadata": {
        "id": "w5zSej72SePg"
      },
      "source": [
        "# 2 Read data files"
      ]
    },
    {
      "cell_type": "code",
      "execution_count": null,
      "metadata": {
        "id": "ftXi-aQmOjpZ"
      },
      "outputs": [],
      "source": [
        "# read the zipped shape files, and store the data into a geo-dataframe\n",
        "shp_zip = \"zip://lpr_000a21a_e.zip\"\n",
        "canada = gpd.read_file(shp_zip)"
      ]
    },
    {
      "cell_type": "code",
      "execution_count": null,
      "metadata": {
        "id": "-0iDG4NDg3Uj"
      },
      "outputs": [],
      "source": [
        "# check columns and data types\n",
        "canada.dtypes"
      ]
    },
    {
      "cell_type": "code",
      "execution_count": null,
      "metadata": {
        "id": "6gE_ANhlPhoj"
      },
      "outputs": [],
      "source": [
        "# check the first few rows\n",
        "canada.head(5)"
      ]
    },
    {
      "cell_type": "markdown",
      "metadata": {
        "id": "EULPAJJ_S2QE"
      },
      "source": [
        "# 3 Coordinate Reference System (CRS)\n",
        "\n",
        "> The CRS is a framework used to precisely measure locations on the surface of Earth as coordinates.\n",
        ">\n",
        "> -- from [wiki](https://en.wikipedia.org/wiki/Spatial_reference_system).\n",
        "\n",
        "Any geospatial dataset comes with a CRS. Without it, you cannot plot or manipulate the data correctly.\n",
        "\n",
        "There are two main types of CRSs.\n",
        "\n",
        "1. Geographic Coordinate Systems (GCS) measures locations directly on the Earth using latitude and longitude.\n",
        "\n",
        "2. Projected Coordinate Systems (PCS) models the Earth as a 2D plane and measures locations using a standardized cartesian coordinate system. PCS therefore involves a map projection from the Earth's 3D surface to a 2D plane.\n",
        "\n",
        "Because there are many ways/specifications to model the Earth (as an ellipsoid), and many ways/specifications to project the Earth to a 2D plane, there are many CRSs. A CRS specification essentially consists of a \"stack\" of dependent specifications depending on the Earth model and projection.\n",
        "\n",
        "The details of CRS are quite complex, I encourage you to read an excellent tutorial on CRS [here](https://docs.qgis.org/3.34/en/docs/gentle_gis_introduction/coordinate_reference_systems.html). After that, refer to the [CRS wikipedia article](https://en.wikipedia.org/wiki/Spatial_reference_system) for further details.\n",
        "\n",
        "You can use Geopandas to check the CRS of your data and convert between CRSs easily. For example, the CRS of our data (i.e., the geo-spatial column `geometry`) is called NAD83 / Statistics Canada Lambert. It is a CRS specifically designed for use in Canada. You can find this information by displaying the data object/`GeoDataFrame`'s `crs` attribute. You can convert the data to other CRS by calling the `GeoDataFrame`'s `to_crs()` method."
      ]
    },
    {
      "cell_type": "code",
      "execution_count": null,
      "metadata": {
        "id": "agfa5SrPP6qq"
      },
      "outputs": [],
      "source": [
        "# Check the Coordinate Reference System (CRS) of the data\n",
        "# https://docs.qgis.org/3.34/en/docs/gentle_gis_introduction/coordinate_reference_systems.html\n",
        "canada.crs"
      ]
    },
    {
      "cell_type": "code",
      "execution_count": null,
      "metadata": {
        "id": "N1EUU_k6PyMu"
      },
      "outputs": [],
      "source": [
        "# produce a plot in the current CRS\n",
        "canada.plot()"
      ]
    },
    {
      "cell_type": "code",
      "execution_count": null,
      "metadata": {
        "id": "_wJDgPHit5SA"
      },
      "outputs": [],
      "source": [
        "# convert to another CRS\n",
        "canada.to_crs(epsg=4326).crs"
      ]
    },
    {
      "cell_type": "code",
      "execution_count": null,
      "metadata": {
        "id": "UVeBeQ-3iR3k"
      },
      "outputs": [],
      "source": [
        "# convert to another CRS and show the first few rows\n",
        "# note the changes in the geometry column\n",
        "canada.to_crs(epsg=4326).head()"
      ]
    },
    {
      "cell_type": "code",
      "execution_count": null,
      "metadata": {
        "id": "NvNhNjZi5h8R"
      },
      "outputs": [],
      "source": [
        "# convert to another CRS and plot\n",
        "canada.to_crs(epsg=4326).plot()"
      ]
    },
    {
      "cell_type": "code",
      "execution_count": null,
      "metadata": {
        "id": "FMWm565cyS_F"
      },
      "outputs": [],
      "source": [
        "# plot in three different CRSs\n",
        "# https://www.tomasbeuzen.com/python-for-geospatial-analysis/chapters/chapter1_intro-to-spatial.html\n",
        "fig, axs = plt.subplots(1, 3, figsize=(10, 8))\n",
        "crs_list = [(\"WGS 84\", \"EPSG:4326\"), (\"Stats Canada Lambert\", \"EPSG:3347\"), (\"UTM 10N\", \"EPSG:32610\")]\n",
        "for n, (name, epsg) in enumerate(crs_list):\n",
        "    # convert to a different Coordinate Reference System (CRS)\n",
        "    canada.to_crs(epsg).plot(ax=axs[n], edgecolor='white', linewidth=1)\n",
        "    axs[n].set_title(name)\n",
        "plt.tight_layout()"
      ]
    },
    {
      "cell_type": "markdown",
      "metadata": {
        "id": "JVMQxO0OXqXb"
      },
      "source": [
        "# 4 Geospatial operations\n",
        "\n",
        "Geopandas makes geospatial operations easy. Below is an example of [calculating areas](https://geopandas.org/en/stable/getting_started/introduction.html#Measuring-area) bounded by polygons. Other geospatial operations Geopandas can perform include 1) [distance calculation between points](https://geopandas.org/en/stable/getting_started/introduction.html#Measuring-distance); 2) [spatial join](https://geopandas.org/en/stable/docs/user_guide/mergingdata.html); 3) [spatial aggregation](https://geopandas.org/en/stable/docs/user_guide/aggregation_with_dissolve.html); and many more."
      ]
    },
    {
      "cell_type": "code",
      "execution_count": null,
      "metadata": {
        "id": "anT5e2FHX4ow"
      },
      "outputs": [],
      "source": [
        "# calculate area bounded by the \"geometry\"/polygon (km^2)\n",
        "# \"For operations that rely on distance or area, you always need to use a projected\n",
        "# CRS (in meters, feet, kilometers etc.) not a geographic one (in degrees).\"\n",
        "# use GeoSeries.to_crs() to project geometries to a planar CRS before using this function\n",
        "canada[\"area\"] = canada.area / 1000000\n",
        "\n",
        "# note the new \"area\" covers off-shore area too\n",
        "canada[[\"PREABBR\", \"LANDAREA\", \"area\"]]"
      ]
    },
    {
      "cell_type": "markdown",
      "metadata": {
        "id": "ZN_BTxsJhdqe"
      },
      "source": [
        "# 5 Plot maps"
      ]
    },
    {
      "cell_type": "markdown",
      "metadata": {
        "id": "u4U_hiuqpQZR"
      },
      "source": [
        "GeoPandas can also plot maps (as we have already seen above). You can also pass a `column` argument to the `plot()` method to color code a map."
      ]
    },
    {
      "cell_type": "code",
      "execution_count": null,
      "metadata": {
        "id": "FqDEypR2ZMNK"
      },
      "outputs": [],
      "source": [
        "# plot a choropleth map based on each province's land area\n",
        "canada.plot(column=\"LANDAREA\", legend=True)"
      ]
    },
    {
      "cell_type": "markdown",
      "metadata": {
        "id": "yV3jO7hGsmUx"
      },
      "source": [
        "Building upon other open source projects such as [folium/leaflet.js](https://python-visualization.github.io/folium/latest/) and [mapclassify](https://github.com/pysal/mapclassify), Geopandas makes creating interactive maps an easy task too."
      ]
    },
    {
      "cell_type": "code",
      "execution_count": null,
      "metadata": {
        "id": "r6BRkU-NF6pT"
      },
      "outputs": [],
      "source": [
        "# install mapclassify for an interactive map\n",
        "!pip install --quiet mapclassify"
      ]
    },
    {
      "cell_type": "code",
      "execution_count": null,
      "metadata": {
        "colab": {
          "background_save": true
        },
        "id": "FWXDPZz5BtQG"
      },
      "outputs": [],
      "source": [
        "# plot an interative choropleth map based on each province's land area\n",
        "canada.explore(column=\"area\", legend=False, width=\"50%\", height=\"50%\")"
      ]
    }
  ],
  "metadata": {
    "colab": {
      "provenance": []
    },
    "kernelspec": {
      "display_name": "Python 3",
      "name": "python3"
    },
    "language_info": {
      "name": "python"
    }
  },
  "nbformat": 4,
  "nbformat_minor": 0
}