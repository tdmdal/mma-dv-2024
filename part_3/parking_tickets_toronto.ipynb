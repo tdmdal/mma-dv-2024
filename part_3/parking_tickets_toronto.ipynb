{
  "cells": [
    {
      "cell_type": "markdown",
      "source": [
        "# 0 Intro\n",
        "\n",
        "In this notebook, we attempt to reproduce the [*Parking Tickets in Toronto*](https://schoolofcities.github.io/parking-tickets-toronto/) visualization by [Jeff Allan](https://schoolofcities.utoronto.ca/people/jeff-allen/). Jeff works at UofT's [School of Cities](https://schoolofcities.utoronto.ca/). He has produced many amazing [geospatial data visualizations](http://jamaps.github.io/maps.html).\n",
        "\n",
        "I believe Jeff did this plot using [QGIS](https://www.qgis.org/en/site/) and [Inkscape](https://inkscape.org/), both are amazing open-source tools, one for GIS (Geographic Information System) and the other for drawing. Here, however, we will attempt to reproduce this plot using [Matplotlib](https://matplotlib.org/) and [GeoPandas](https://geopandas.org/en/stable/)' `plot()` method. The GeoPandas' `plot()` method is just a high-level interface to Matplotlib for making maps."
      ],
      "metadata": {
        "id": "0_Bw44KY3PFu"
      }
    },
    {
      "cell_type": "code",
      "execution_count": null,
      "metadata": {
        "id": "1PDPr4RC4Pqz"
      },
      "outputs": [],
      "source": [
        "import matplotlib as mpl\n",
        "import matplotlib.pyplot as plt\n",
        "import geopandas as gpd\n",
        "import pandas as pd"
      ]
    },
    {
      "cell_type": "code",
      "source": [
        "# check the versions of the three Python packages to be used\n",
        "print(f\"matplotlib version: {mpl.__version__}\")\n",
        "print(f\"geopandas version: {gpd.__version__}\")\n",
        "print(f\"pandas version: {pd.__version__}\")"
      ],
      "metadata": {
        "id": "qtrAcbkpAnyZ"
      },
      "execution_count": null,
      "outputs": []
    },
    {
      "cell_type": "code",
      "source": [
        "# set the panadas option to display all table columns in this notebook\n",
        "pd.set_option('display.max_columns', None)"
      ],
      "metadata": {
        "id": "ZylUix_RQ3JG"
      },
      "execution_count": null,
      "outputs": []
    },
    {
      "cell_type": "markdown",
      "source": [
        "# 1 Datasets"
      ],
      "metadata": {
        "id": "EJEoI_VJt2pq"
      }
    },
    {
      "cell_type": "markdown",
      "source": [
        "We will use three datasets.\n",
        "\n",
        "1. Toronto parking ticket count dataset. This dataset is prepared by Jeff Allan. You can find how it's prepared at its Github repository [here](https://github.com/schoolofcities/parking-tickets-toronto) (see the data folder).\n",
        "\n",
        "2. Toronto boundary data set. You can find this dataset [here](https://open.toronto.ca/dataset/regional-municipal-boundary/) at Toronto's Open Data portal.\n",
        "\n",
        "3. Toronto Centreline dataset. You can find this dataset [here](https://open.toronto.ca/dataset/toronto-centreline-tcl/) at Toronto's Open Data portal. We are using the Version 2 data in GeoJSON format.\n",
        "\n",
        "I have downloaded all the datasets and uploaded them in a Github repository for us to use. (I also zipped the original centreline `.geojson` file to reduce its size.)\n",
        "\n",
        "Now, let's download all three datasets."
      ],
      "metadata": {
        "id": "ahzzbtDCov1O"
      }
    },
    {
      "cell_type": "code",
      "source": [
        "# Download the datasets\n",
        "!wget --quiet https://github.com/tdmdal/datasets-teaching/raw/main/ptickets/all.csv\n",
        "!wget --quiet https://github.com/tdmdal/datasets-teaching/raw/main/ptickets/Centreline%20-%20Version%202.geojson.zip\n",
        "!wget --quiet https://github.com/tdmdal/datasets-teaching/raw/main/ptickets/toronto-boundary-wgs84.zip"
      ],
      "metadata": {
        "id": "5WsE51zzVMc3"
      },
      "execution_count": null,
      "outputs": []
    },
    {
      "cell_type": "markdown",
      "source": [
        "# 2 Load and prepare data"
      ],
      "metadata": {
        "id": "pDnYfGfbrB80"
      }
    },
    {
      "cell_type": "markdown",
      "source": [
        "Let's load each dataset and take a quick look."
      ],
      "metadata": {
        "id": "Go7QVroBYa20"
      }
    },
    {
      "cell_type": "code",
      "source": [
        "# load ticket count data in csv format\n",
        "ticket = pd.read_csv(\"all.csv\")\n",
        "ticket.head()"
      ],
      "metadata": {
        "id": "nydgcV5VATxA"
      },
      "execution_count": null,
      "outputs": []
    },
    {
      "cell_type": "code",
      "source": [
        "# load zipped toronto boundary vector data in shape file format (together with\n",
        "# associated attribute and index files)\n",
        "boundary = gpd.read_file(\"zip://toronto-boundary-wgs84.zip\")\n",
        "boundary.head()"
      ],
      "metadata": {
        "id": "iF54OVor2FZX"
      },
      "execution_count": null,
      "outputs": []
    },
    {
      "cell_type": "code",
      "execution_count": null,
      "metadata": {
        "id": "7LQV0qyjtEwo"
      },
      "outputs": [],
      "source": [
        "# load zipped centreline data in geojson format\n",
        "geojson_file = \"zip://Centreline - Version 2.geojson.zip\"\n",
        "centreline = gpd.read_file(geojson_file)\n",
        "centreline.head()"
      ]
    },
    {
      "cell_type": "code",
      "source": [
        "# list unique features in the FEATURE_CODE_DESC column\n",
        "centreline['FEATURE_CODE_DESC'].unique()"
      ],
      "metadata": {
        "id": "VGbxzXzqfbH5"
      },
      "execution_count": null,
      "outputs": []
    },
    {
      "cell_type": "markdown",
      "source": [
        "Let's merge the centreline data with the ticket count data, and extract the columns we needed for visualization."
      ],
      "metadata": {
        "id": "6W3HHlD5vMJb"
      }
    },
    {
      "cell_type": "code",
      "source": [
        "# merge centreline table with ticket count table\n",
        "# select only columns needed for plotting\n",
        "centreline = centreline[['CENTRELINE_ID', 'FEATURE_CODE_DESC', 'geometry']].merge(\n",
        "    ticket[['CENTRELINE_ID', 'count_all']], how='left', on='CENTRELINE_ID')\n",
        "centreline.head()"
      ],
      "metadata": {
        "id": "unYOmvCHAiHX"
      },
      "execution_count": null,
      "outputs": []
    },
    {
      "cell_type": "markdown",
      "source": [
        "# 3 Create a default plot"
      ],
      "metadata": {
        "id": "MVzMGmc-rGqW"
      }
    },
    {
      "cell_type": "code",
      "source": [
        "# draft a heatmap plot (a choropleth map)\n",
        "\n",
        "# create figure and axes\n",
        "fig, ax = plt.subplots()\n",
        "\n",
        "# plot the boundary\n",
        "boundary.plot(ax=ax)\n",
        "\n",
        "# plot the centreline (with ticket count as color code)\n",
        "centreline.plot(ax=ax, column='count_all', cmap='plasma')"
      ],
      "metadata": {
        "id": "36ATss3Bq3R_"
      },
      "execution_count": null,
      "outputs": []
    },
    {
      "cell_type": "code",
      "source": [
        "# plot the histogram of ticket count\n",
        "# the distribution has a long tail\n",
        "centreline['count_all'].hist()"
      ],
      "metadata": {
        "id": "U763Z3xYUzYI"
      },
      "execution_count": null,
      "outputs": []
    },
    {
      "cell_type": "code",
      "source": [
        "# plot the histogram of ticket count that is < 5000\n",
        "centreline[centreline['count_all'] < 5000][\"count_all\"].hist(bins=50)"
      ],
      "metadata": {
        "id": "4HSMLSdKVsBd"
      },
      "execution_count": null,
      "outputs": []
    },
    {
      "cell_type": "code",
      "source": [
        "# draft a heatmap plot (a choropleth map) with a subset of ticket count data\n",
        "\n",
        "# use dark theme\n",
        "plt.style.use('dark_background')\n",
        "\n",
        "# create figure and axes\n",
        "fig, ax = plt.subplots()\n",
        "\n",
        "# don't show axis\n",
        "ax.set_axis_off()\n",
        "\n",
        "# plot the boundary\n",
        "boundary.plot(ax=ax, edgecolor='gray', facecolor='none', markersize=1)\n",
        "\n",
        "# plot the centreline\n",
        "centreline[centreline['count_all'] < 5000].plot(ax=ax, column='count_all', cmap='plasma', markersize=1)"
      ],
      "metadata": {
        "id": "ZmlFSP8IsNgq"
      },
      "execution_count": null,
      "outputs": []
    },
    {
      "cell_type": "markdown",
      "source": [
        "# 4 Fine tune the plot"
      ],
      "metadata": {
        "id": "abS634hbuT0d"
      }
    },
    {
      "cell_type": "markdown",
      "source": [
        "## 4.1 Refine 1 - Better orientation"
      ],
      "metadata": {
        "id": "pDli5tevRviB"
      }
    },
    {
      "cell_type": "code",
      "source": [
        "# rotate centreline\n",
        "# turn EPSG:4326 to EPSG:3347 first to avoid shape distortion after rotation\n",
        "cline_3347 = centreline.to_crs(epsg=3347)\n",
        "\n",
        "# rotate with respect to the centroid of all centrelines\n",
        "cline_3347_rotated = cline_3347.rotate(-28, origin=cline_3347.unary_union.centroid).rename(\"geometry_3347_rotate\")\n",
        "\n",
        "# A geopandas GeoSeries is returned after rotation\n",
        "cline_3347_rotated.head()"
      ],
      "metadata": {
        "id": "bW6FrpkiTkr4"
      },
      "execution_count": null,
      "outputs": []
    },
    {
      "cell_type": "code",
      "source": [
        "# combine the original centreline GeoDataFrame with the rotated GeoSeries\n",
        "centreline_rotated = centreline.join(cline_3347_rotated)\n",
        "\n",
        "# pick only the needed columns\n",
        "centreline_rotated = centreline_rotated[[\"CENTRELINE_ID\", \"FEATURE_CODE_DESC\", \"count_all\", \"geometry_3347_rotate\"]].rename(columns={\"geometry_3347_rotate\": \"geometry\"})\n",
        "\n",
        "# check the result\n",
        "centreline_rotated.head()"
      ],
      "metadata": {
        "id": "0yev6VXTUbjU"
      },
      "execution_count": null,
      "outputs": []
    },
    {
      "cell_type": "code",
      "source": [
        "# rotate boundary\n",
        "# turn EPSG:4326 to EPSG:3347 first to avoid shape distortion after rotation\n",
        "# rotate with respect to the centroid of all centrelines to match centreline rotation centroid\n",
        "boundary_rotated = boundary.to_crs(epsg=3347).rotate(-28, origin=cline_3347.unary_union.centroid)\n",
        "boundary_rotated.head()"
      ],
      "metadata": {
        "id": "OQMvOY5eRuqg"
      },
      "execution_count": null,
      "outputs": []
    },
    {
      "cell_type": "code",
      "source": [
        "# draft a heatmap plot (a choropleth map)\n",
        "\n",
        "# use default theme\n",
        "plt.style.use('default')\n",
        "\n",
        "# create figure and axes\n",
        "fig, ax = plt.subplots()\n",
        "\n",
        "# plot the boundary\n",
        "boundary_rotated.plot(ax=ax)\n",
        "\n",
        "# plot the centreline (with ticket count as color code)\n",
        "centreline_rotated.plot(ax=ax, column='count_all', cmap='plasma')"
      ],
      "metadata": {
        "id": "XqvLW8ktuRsD"
      },
      "execution_count": null,
      "outputs": []
    },
    {
      "cell_type": "code",
      "source": [
        "# draft a heatmap plot (a choropleth map) with a subset of ticket count data\n",
        "\n",
        "# use dark themem\n",
        "plt.style.use('dark_background')\n",
        "\n",
        "# create figure and axes\n",
        "fig, ax = plt.subplots()\n",
        "\n",
        "# don't show axis\n",
        "ax.set_axis_off()\n",
        "\n",
        "# plot the boundary\n",
        "boundary_rotated.plot(ax=ax, edgecolor='gray', facecolor='none', markersize=1)\n",
        "\n",
        "# plot the centreline\n",
        "centreline_rotated[centreline_rotated['count_all'] < 5000].plot(ax=ax, column='count_all', cmap='plasma', markersize=1)"
      ],
      "metadata": {
        "id": "RnM31kCdXzuc"
      },
      "execution_count": null,
      "outputs": []
    },
    {
      "cell_type": "markdown",
      "source": [
        "## 4.1 Refine 2 - Colormap on discrete intervals"
      ],
      "metadata": {
        "id": "ncGvQoK64g3z"
      }
    },
    {
      "cell_type": "code",
      "source": [
        "# turn off vertical scroll (for large images)\n",
        "from google.colab import output\n",
        "output.no_vertical_scroll()\n",
        "\n",
        "# import a few additional functions form matplotlib\n",
        "from matplotlib.colors import BoundaryNorm\n",
        "\n",
        "# use dark themem\n",
        "plt.style.use('dark_background')\n",
        "\n",
        "# create figure and axes\n",
        "fig, ax = plt.subplots(figsize=(15, 10), layout='constrained')\n",
        "\n",
        "# don't show axis\n",
        "ax.set_axis_off()\n",
        "\n",
        "# plot the boundary\n",
        "boundary_rotated.plot(ax=ax, edgecolor='gray', facecolor='none', markersize=1)\n",
        "\n",
        "# Generate a colormap index based on discrete intervals\n",
        "# https://matplotlib.org/stable/api/_as_gen/matplotlib.colors.Colormap.html\n",
        "# https://matplotlib.org/stable/api/_as_gen/matplotlib.colors.BoundaryNorm.html\n",
        "cmap = plt.colormaps['inferno'].with_extremes(over=\"white\")\n",
        "bounds = [5, 10, 25, 50, 100, 250, 500, 1000, 2500, 5000]\n",
        "norm = BoundaryNorm(bounds, cmap.N, extend='both')\n",
        "\n",
        "# plot centreline heatmap\n",
        "centreline_rotated.plot(ax=ax, column='count_all',\n",
        "                        cmap=cmap,\n",
        "                        norm=norm,\n",
        "                        markersize=0.5,\n",
        "                        legend=True,\n",
        "                        legend_kwds={\n",
        "                            'shrink': 0.3,\n",
        "                            'orientation': 'horizontal',\n",
        "                            'pad': 0,\n",
        "                            'anchor': (0.5, 1),\n",
        "                            'extendfrac': 'auto',\n",
        "                            'extendrect': True,\n",
        "                            'label': 'Number of parking tickets per 100m'})\n",
        "\n",
        "# add title and subtitle\n",
        "fig.suptitle(\"Mapping Parking Tickets in Toronto\", fontsize=25, fontweight='bold', color='yellow')\n",
        "subtitle_text = (\"Over 22.8 million parking tickets were issued in the City of Toronto in the \\n\"\n",
        "                  \"decade spanning 2011 to 2020, representing over 1 billion dollars in fines. \\n\"\n",
        "                  \"This map shows almost all of these parking tickets.\")\n",
        "_ = ax.set_title(subtitle_text, fontsize=16, y=1.05)"
      ],
      "metadata": {
        "id": "IMSqkMTUMGIm"
      },
      "execution_count": null,
      "outputs": []
    },
    {
      "cell_type": "markdown",
      "source": [
        "## 4.2 Refine 3 - A better colorbar"
      ],
      "metadata": {
        "id": "4_zOiguk5WI_"
      }
    },
    {
      "cell_type": "code",
      "source": [
        "# turn off vertical scroll (for large images)\n",
        "from google.colab import output\n",
        "output.no_vertical_scroll()\n",
        "\n",
        "# import a few additional functions form matplotlib\n",
        "from matplotlib.colors import BoundaryNorm\n",
        "from matplotlib.cm import ScalarMappable\n",
        "\n",
        "# use dark themem\n",
        "plt.style.use('dark_background')\n",
        "\n",
        "# create figure and axes\n",
        "fig, ax = plt.subplots(figsize=(15, 10), layout='constrained')\n",
        "\n",
        "# don't show axis\n",
        "ax.set_axis_off()\n",
        "\n",
        "# plot the boundary\n",
        "boundary_rotated.plot(ax=ax, edgecolor='gray', facecolor='none', markersize=1)\n",
        "\n",
        "# Generate a colormap index based on discrete intervals\n",
        "# https://matplotlib.org/stable/api/_as_gen/matplotlib.colors.Colormap.html\n",
        "# https://matplotlib.org/stable/api/_as_gen/matplotlib.colors.BoundaryNorm.html\n",
        "cmap = plt.colormaps['inferno'].with_extremes(under='midnightblue', over='white')\n",
        "bounds = [5, 10, 25, 50, 100, 250, 500, 1000, 2500, 5000]\n",
        "norm = BoundaryNorm(bounds, cmap.N, extend='both')\n",
        "\n",
        "# plot centreline heatmap\n",
        "centreline_rotated.plot(ax=ax, column='count_all', cmap=cmap, norm=norm, markersize=0.5)\n",
        "\n",
        "# plot coloarbar legend separately so as to customize its look\n",
        "cbar = fig.colorbar(ScalarMappable(norm=norm, cmap=cmap),\n",
        "                    ax=ax,\n",
        "                    orientation='horizontal',\n",
        "                    shrink=0.3,\n",
        "                    pad=-0.02,\n",
        "                    anchor=(0.5, 1),\n",
        "                    extendfrac='auto',\n",
        "                    extendrect=True,\n",
        "                    drawedges=True,\n",
        "                    label='Number of parking tickets per 100m')\n",
        "\n",
        "cbar.ax.tick_params('x',\n",
        "                    bottom=False, labelbottom=False,\n",
        "                    top=True, labeltop=True,\n",
        "                    labelrotation=45)\n",
        "\n",
        "# add title and subtitle\n",
        "fig.suptitle(\"Mapping Parking Tickets in Toronto\", fontsize=25, fontweight='bold', color='yellow')\n",
        "subtitle_text = (\"Over 22.8 million parking tickets were issued in the City of Toronto in the \\n\"\n",
        "                  \"decade spanning 2011 to 2020, representing over 1 billion dollars in fines. \\n\"\n",
        "                  \"This map shows almost all of these parking tickets.\")\n",
        "_ = ax.set_title(subtitle_text,\n",
        "                 fontsize=16,\n",
        "                 y=1.04,\n",
        "                 multialignment='left')\n"
      ],
      "metadata": {
        "id": "eS5oKeHeW8cK"
      },
      "execution_count": null,
      "outputs": []
    },
    {
      "cell_type": "markdown",
      "source": [
        "## 4.4 Refine 4 - Scalebar, north arrow & notes"
      ],
      "metadata": {
        "id": "2aDgN71p5prY"
      }
    },
    {
      "cell_type": "code",
      "source": [
        "!pip install --quiet matplotlib-scalebar"
      ],
      "metadata": {
        "id": "mX88hM4BeMyO"
      },
      "execution_count": null,
      "outputs": []
    },
    {
      "cell_type": "code",
      "source": [
        "# turn off vertical scroll (for large images)\n",
        "from google.colab import output\n",
        "output.no_vertical_scroll()\n",
        "\n",
        "# import a few additional functions form matplotlib\n",
        "from matplotlib.colors import BoundaryNorm\n",
        "from matplotlib.cm import ScalarMappable\n",
        "from matplotlib_scalebar.scalebar import ScaleBar\n",
        "\n",
        "# use dark themem\n",
        "plt.style.use('dark_background')\n",
        "\n",
        "# create figure and axes\n",
        "fig, ax = plt.subplots(figsize=(15, 10), layout='constrained')\n",
        "\n",
        "# don't show axis\n",
        "ax.set_axis_off()\n",
        "\n",
        "# plot the boundary\n",
        "boundary_rotated.plot(ax=ax, edgecolor='gray', facecolor='none', markersize=1)\n",
        "\n",
        "# Generate a colormap index based on discrete intervals\n",
        "# https://matplotlib.org/stable/api/_as_gen/matplotlib.colors.Colormap.html\n",
        "# https://matplotlib.org/stable/api/_as_gen/matplotlib.colors.BoundaryNorm.html\n",
        "cmap = plt.colormaps['inferno'].with_extremes(under='midnightblue', over='white')\n",
        "bounds = [5, 10, 25, 50, 100, 250, 500, 1000, 2500, 5000]\n",
        "norm = BoundaryNorm(bounds, cmap.N, extend='both')\n",
        "\n",
        "# exclude some centrelines from the plot\n",
        "feature_exclude = ['Minor Arterial', 'Other', 'Hydro Line', 'Walkway',\n",
        "                   'Minor Shoreline (Land locked)', 'Minor Railway', 'Trail',\n",
        "                   'Access Road', 'Other Ramp', 'Minor Arterial Ramp']\n",
        "\n",
        "# plot centreline heatmap\n",
        "centreline_rotated[~centreline_rotated['FEATURE_CODE_DESC'].isin(feature_exclude)].plot(\n",
        "    ax=ax, column='count_all', cmap=cmap, norm=norm, markersize=0.5)\n",
        "\n",
        "# plot coloarbar legend separately so as to customize its look\n",
        "cbar = fig.colorbar(ScalarMappable(norm=norm, cmap=cmap),\n",
        "                    ax=ax,\n",
        "                    orientation='horizontal',\n",
        "                    shrink=0.23,\n",
        "                    pad=-0.02,\n",
        "                    anchor=(0.5, 1),\n",
        "                    extendfrac='auto',\n",
        "                    extendrect=True,\n",
        "                    drawedges=True,\n",
        "                    label='Number of parking tickets per 100m')\n",
        "\n",
        "cbar.ax.tick_params('x',\n",
        "                    bottom=False, labelbottom=False,\n",
        "                    top=True, labeltop=True,\n",
        "                    labelrotation=45)\n",
        "\n",
        "# add title and subtitle\n",
        "fig.suptitle(\"Mapping Parking Tickets in Toronto\", fontsize=25, fontweight='bold', color='yellow')\n",
        "subtitle_text = (\"Over 22.8 million parking tickets were issued in the City of Toronto in the \\n\"\n",
        "                  \"decade spanning 2011 to 2020, representing over 1 billion dollars in fines. \\n\"\n",
        "                  \"This map shows almost all of these parking tickets.\")\n",
        "_ = ax.set_title(subtitle_text,\n",
        "                 fontsize=16,\n",
        "                 y=1.04,\n",
        "                 multialignment='left')\n",
        "\n",
        "# add scalebar\n",
        "# https://geopandas.org/en/stable/gallery/matplotlib_scalebar.html\n",
        "scale = ScaleBar(dx=1,\n",
        "                 location='lower right',\n",
        "                 color='grey',\n",
        "                 box_alpha=0,\n",
        "                 width_fraction=0.005,\n",
        "                 border_pad=5)\n",
        "\n",
        "_ = ax.add_artist(scale)\n",
        "\n",
        "# add north arrow\n",
        "# https://matplotlib.org/stable/users/explain/text/annotations.html\n",
        "_ = ax.annotate(\"N\",\n",
        "                xy=(0.91, 0.25), xycoords='figure fraction',\n",
        "                xytext=(0.9, 0.19), textcoords='figure fraction',\n",
        "                ha='center',\n",
        "                color='gray',\n",
        "                arrowprops=dict(arrowstyle=\"fancy\", color=\"gray\"))\n",
        "\n",
        "# add notes\n",
        "_ = ax.text(0.6, 0.11,\n",
        "            (\"Note: This is an attempt to reproduce Jeff Allan's Toronto \\nParking Tickets Map using Matplotlib. \"\n",
        "             \"Find the original plot \\nat https://schoolofcities.github.io/parking-tickets-toronto/.\\n\\n\"\n",
        "             \"Data source and data processing code can be found therein.\"),\n",
        "            transform=ax.transAxes,\n",
        "            wrap=True,\n",
        "            fontsize=8,\n",
        "            horizontalalignment='left',\n",
        "            bbox=dict(boxstyle='square', pad=1, facecolor='black', edgecolor='black'))"
      ],
      "metadata": {
        "id": "HyS-kBged_hA"
      },
      "execution_count": null,
      "outputs": []
    },
    {
      "cell_type": "code",
      "source": [],
      "metadata": {
        "id": "0AmmKEbsXn08"
      },
      "execution_count": null,
      "outputs": []
    }
  ],
  "metadata": {
    "colab": {
      "provenance": []
    },
    "kernelspec": {
      "display_name": "Python 3",
      "name": "python3"
    },
    "language_info": {
      "name": "python"
    }
  },
  "nbformat": 4,
  "nbformat_minor": 0
}